{
  "nbformat": 4,
  "nbformat_minor": 0,
  "metadata": {
    "kernelspec": {
      "display_name": "Python 3",
      "language": "python",
      "name": "python3"
    },
    "language_info": {
      "codemirror_mode": {
        "name": "ipython",
        "version": 3
      },
      "file_extension": ".py",
      "mimetype": "text/x-python",
      "name": "python",
      "nbconvert_exporter": "python",
      "pygments_lexer": "ipython3",
      "version": "3.8.1"
    },
    "colab": {
      "name": "Codage arithmetique.ipynb",
      "provenance": [],
      "include_colab_link": true
    }
  },
  "cells": [
    {
      "cell_type": "markdown",
      "metadata": {
        "id": "view-in-github",
        "colab_type": "text"
      },
      "source": [
        "<a href=\"https://colab.research.google.com/github/gabilodeau/INF8770/blob/master/Codage%20arithmetique.ipynb\" target=\"_parent\"><img src=\"https://colab.research.google.com/assets/colab-badge.svg\" alt=\"Open In Colab\"/></a>"
      ]
    },
    {
      "cell_type": "markdown",
      "metadata": {
        "id": "2M0GLVXuiovJ",
        "colab_type": "text"
      },
      "source": [
        "INF8770 Technologies multimédias\n",
        "\n",
        "Polytechnique Montréal\n",
        "\n",
        "Exemple de codage arithmétique"
      ]
    },
    {
      "cell_type": "code",
      "metadata": {
        "id": "rIZGpksRiovL",
        "colab_type": "code",
        "colab": {}
      },
      "source": [
        "import numpy as np"
      ],
      "execution_count": 1,
      "outputs": []
    },
    {
      "cell_type": "markdown",
      "metadata": {
        "id": "w9btb6DIiovW",
        "colab_type": "text"
      },
      "source": [
        "Message à coder. On codera seulement les SymbACoder premiers symboles. Limite des float. Sinon, on peut utiliser des bigfloat. "
      ]
    },
    {
      "cell_type": "code",
      "metadata": {
        "id": "oqd5BNJPiovY",
        "colab_type": "code",
        "colab": {}
      },
      "source": [
        "Message = \"ABAABCABACABBABCDAADAAABABAAABAABBABABAABAAB\"\n",
        "SymbACoder = 6"
      ],
      "execution_count": 2,
      "outputs": []
    },
    {
      "cell_type": "markdown",
      "metadata": {
        "id": "Ebmotl47iovf",
        "colab_type": "text"
      },
      "source": [
        "Calcul des probabilités de chaque symbole."
      ]
    },
    {
      "cell_type": "code",
      "metadata": {
        "id": "aI9D_dCWiovi",
        "colab_type": "code",
        "colab": {}
      },
      "source": [
        "ProbSymb =[[Message[0], Message.count(Message[0])/len(Message)]]\n",
        "nbsymboles = 1\n",
        "\n",
        "for i in range(1,len(Message)):\n",
        "    if not list(filter(lambda x: x[0] == Message[i], ProbSymb)):\n",
        "        ProbSymb += [[Message[i], ProbSymb[-1][1]+Message.count(Message[i])/len(Message)]]\n",
        "        nbsymboles += 1\n",
        "        \n",
        "longueurOriginale = np.ceil(np.log2(nbsymboles))*SymbACoder "
      ],
      "execution_count": 3,
      "outputs": []
    },
    {
      "cell_type": "code",
      "metadata": {
        "id": "Asl89CSsiovq",
        "colab_type": "code",
        "colab": {},
        "outputId": "d92bfcf5-a65f-4792-8b78-12a3b3f9ca92"
      },
      "source": [
        "print(ProbSymb)"
      ],
      "execution_count": null,
      "outputs": [
        {
          "output_type": "stream",
          "text": [
            "[['A', 0.5454545454545454], ['B', 0.8863636363636362], ['C', 0.9545454545454544], ['D', 0.9999999999999998]]\n"
          ],
          "name": "stdout"
        }
      ]
    },
    {
      "cell_type": "markdown",
      "metadata": {
        "id": "VSgXEBv_iovv",
        "colab_type": "text"
      },
      "source": [
        "Codage du message. On divise successivement l'intervalle représentant le symbole à coder."
      ]
    },
    {
      "cell_type": "code",
      "metadata": {
        "id": "uqc2fBBTiovw",
        "colab_type": "code",
        "colab": {
          "base_uri": "https://localhost:8080/",
          "height": 340
        },
        "outputId": "d7807359-2c76-4bf5-958e-846c928a6a85"
      },
      "source": [
        "Code = ProbSymb[:]\n",
        "Code = [['', 0]] + ProbSymb[:]\n",
        "print(Code)\n",
        "for i in range(SymbACoder): \n",
        "    #Cherche dans quel intervalle est le symbole à coder\n",
        "    temp = list(filter(lambda x: x[0] == Message[i], Code))\n",
        "    indice = Code.index(temp[0])\n",
        "\n",
        "    #Calcul des bornes pour coder le caractère\n",
        "    Debut = Code[indice-1][1]\n",
        "    Plage = Code[indice][1] - Debut\n",
        "    print(Message[i], ' est dans l\\'intervalle', indice, ' de ', Debut, ' à ', Debut + Plage)\n",
        "    print()      \n",
        "    #Nouveaux intervalles pour coder le prochain symbole\n",
        "    Code = [['', Debut]]  \n",
        "    for j in range(len(ProbSymb)):\n",
        "        Code += [[ProbSymb[j][0], Debut+ProbSymb[j][1]*Plage]]\n",
        "          \n",
        "    print(Code)"
      ],
      "execution_count": 4,
      "outputs": [
        {
          "output_type": "stream",
          "text": [
            "[['', 0], ['A', 0.5454545454545454], ['B', 0.8863636363636362], ['C', 0.9545454545454544], ['D', 0.9999999999999998]]\n",
            "A  est dans l'intervalle 1  de  0  à  0.5454545454545454\n",
            "\n",
            "[['', 0], ['A', 0.29752066115702475], ['B', 0.4834710743801652], ['C', 0.5206611570247932], ['D', 0.5454545454545453]]\n",
            "B  est dans l'intervalle 2  de  0.29752066115702475  à  0.4834710743801652\n",
            "\n",
            "[['', 0.29752066115702475], ['A', 0.3989481592787377], ['B', 0.4623403456048083], ['C', 0.4750187828700224], ['D', 0.4834710743801651]]\n",
            "A  est dans l'intervalle 1  de  0.29752066115702475  à  0.3989481592787377\n",
            "\n",
            "[['', 0.29752066115702475], ['A', 0.35284475104159546], ['B', 0.38742230721945214], ['C', 0.39433781845502347], ['D', 0.3989481592787377]]\n",
            "A  est dans l'intervalle 1  de  0.29752066115702475  à  0.35284475104159546\n",
            "\n",
            "[['', 0.29752066115702475], ['A', 0.3276974374576997], ['B', 0.3465579226456215], ['C', 0.3503300196832059], ['D', 0.35284475104159546]]\n",
            "B  est dans l'intervalle 2  de  0.3276974374576997  à  0.3465579226456215\n",
            "\n",
            "[['', 0.3276974374576997], ['A', 0.3379849748329298], ['B', 0.3444146856924486], ['C', 0.34570062786435235], ['D', 0.3465579226456215]]\n",
            "C  est dans l'intervalle 3  de  0.3444146856924486  à  0.34570062786435235\n",
            "\n",
            "[['', 0.3444146856924486], ['A', 0.3451161086953052], ['B', 0.34555449807209054], ['C', 0.3456421759474476], ['D', 0.34570062786435235]]\n"
          ],
          "name": "stdout"
        }
      ]
    },
    {
      "cell_type": "markdown",
      "metadata": {
        "id": "BaNoot7Diov0",
        "colab_type": "text"
      },
      "source": [
        "On choisit une valeur dans l'intervalle final. On cherche la valeur qui prend le moins de bits. On fait la somme de puissance négative de 2. Permet aussi d'obtenir le code binaire."
      ]
    },
    {
      "cell_type": "code",
      "metadata": {
        "id": "txaWtZTeiov0",
        "colab_type": "code",
        "colab": {
          "base_uri": "https://localhost:8080/",
          "height": 51
        },
        "outputId": "d748ca2f-c3a0-4c6e-e26b-8f5354c32819"
      },
      "source": [
        "ok = True\n",
        "valfinale = 0\n",
        "valEnBits = list('')\n",
        "p = 0\n",
        "while ok:\n",
        "    p += 1\n",
        "    #Essayer différentes sommes de puissance négative de 2\n",
        "    valfinale += np.power(2.0,-p)\n",
        "    valEnBits += '1' \n",
        "    if valfinale >= (Debut + Plage):\n",
        "        valfinale -= np.power(2.0,-p) #Hors de la borne maximale, on annule l'ajout.\n",
        "        valEnBits[-1] ='0'\n",
        "    elif valfinale >= Debut :\n",
        "        ok = False\n",
        "\n",
        "print(valfinale)\n",
        "print(\"\".join(valEnBits))"
      ],
      "execution_count": 5,
      "outputs": [
        {
          "output_type": "stream",
          "text": [
            "0.3447265625\n",
            "0101100001\n"
          ],
          "name": "stdout"
        }
      ]
    },
    {
      "cell_type": "markdown",
      "metadata": {
        "id": "iyHkwPYWiov3",
        "colab_type": "text"
      },
      "source": [
        "Autre façon de convertir en bits qui permet de voir l'importance du choix de la valeur finale."
      ]
    },
    {
      "cell_type": "code",
      "metadata": {
        "id": "TtjAxvNgiov4",
        "colab_type": "code",
        "colab": {
          "base_uri": "https://localhost:8080/",
          "height": 68
        },
        "outputId": "d71a831d-45a9-4726-f0a9-a0a326c23064"
      },
      "source": [
        "#Table hex vers binaire\n",
        "hex2bin = dict('{:x} {:04b}'.format(x,x).split() for x in range(16))\n",
        "\n",
        "def float_dec2bin(d):\n",
        "    \n",
        "    #Note: je ne suis pas sûr que cela fonctionne toujours... J'ai fait un nombre de tests limité.\n",
        "    \n",
        "    hx = float(d).hex() #Conversion float vers hex\n",
        "    p = hx.index('p')\n",
        "    #Conversion hex vers bin avec la table\n",
        "    bn = ''.join(hex2bin.get(char, char) for char in hx[2:p])\n",
        "    code = list(bn)\n",
        "    indice = code.index('.') # position du séparateur des décimales\n",
        "    puissance = int(hx[p+2:]) # Décalage\n",
        "    if puissance >= indice:\n",
        "        #On ajoute des zéros pour pouvoir décaler le séparateur des décimales.\n",
        "        zerosdeplus = \"0\" * (puissance-indice+1)\n",
        "        bn = zerosdeplus + bn\n",
        "        code = list(bn)\n",
        "        indice = code.index('.') # nouvelle position du séparateur des décimales\n",
        "\n",
        "    print(''.join(code))    \n",
        "    \n",
        "    #Décalage du séparateur décimal selon la puissance    \n",
        "    for i in range(0,puissance):\n",
        "        temp = code[indice-i-1];\n",
        "        code[indice-i-1] = code[indice-i]\n",
        "        code[indice-i] = temp\n",
        "     \n",
        "    print(''.join(code))\n",
        "    \n",
        "    #Enlève les zéros de trop et la partie avant le séparateur décimal\n",
        "    \n",
        "    ind = code.index('.')+1\n",
        "    code = code[ind:]\n",
        "    ind= code[::-1].index('1')\n",
        "    code = code[:(len(code)-ind)]   \n",
        "    codebinaire = ''.join(code)\n",
        "\n",
        "    return codebinaire\n",
        "\n",
        "messagecode = float_dec2bin(valfinale) #Essayer d'autres valeurs qui tombent dans l'intervalle\n",
        "print(messagecode)\n"
      ],
      "execution_count": 6,
      "outputs": [
        {
          "output_type": "stream",
          "text": [
            "0001.0110000100000000000000000000000000000000000000000000\n",
            "00.010110000100000000000000000000000000000000000000000000\n",
            "0101100001\n"
          ],
          "name": "stdout"
        }
      ]
    },
    {
      "cell_type": "markdown",
      "metadata": {
        "id": "Cc6HOywGiov6",
        "colab_type": "text"
      },
      "source": [
        "Longueur en bits du message codé et celle de l'original"
      ]
    },
    {
      "cell_type": "code",
      "metadata": {
        "id": "CFyt4jQTiov6",
        "colab_type": "code",
        "colab": {
          "base_uri": "https://localhost:8080/",
          "height": 51
        },
        "outputId": "547ef728-188b-40ac-85ae-f985c7b7f9f1"
      },
      "source": [
        "longueur = len(messagecode)\n",
        "print(\"Longueur = {0}\".format(longueur))\n",
        "print(\"Longueur originale = {0}\".format(longueurOriginale))"
      ],
      "execution_count": 7,
      "outputs": [
        {
          "output_type": "stream",
          "text": [
            "Longueur = 10\n",
            "Longueur originale = 12.0\n"
          ],
          "name": "stdout"
        }
      ]
    },
    {
      "cell_type": "code",
      "metadata": {
        "id": "22nzzT--iov8",
        "colab_type": "code",
        "colab": {}
      },
      "source": [
        ""
      ],
      "execution_count": null,
      "outputs": []
    }
  ]
}