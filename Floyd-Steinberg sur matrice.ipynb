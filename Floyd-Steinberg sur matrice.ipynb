{
  "nbformat": 4,
  "nbformat_minor": 0,
  "metadata": {
    "kernelspec": {
      "display_name": "Python 3",
      "language": "python",
      "name": "python3"
    },
    "language_info": {
      "codemirror_mode": {
        "name": "ipython",
        "version": 3
      },
      "file_extension": ".py",
      "mimetype": "text/x-python",
      "name": "python",
      "nbconvert_exporter": "python",
      "pygments_lexer": "ipython3",
      "version": "3.6.3"
    },
    "colab": {
      "name": "Floyd-Steinberg sur matrice.ipynb",
      "provenance": [],
      "include_colab_link": true
    }
  },
  "cells": [
    {
      "cell_type": "markdown",
      "metadata": {
        "id": "view-in-github",
        "colab_type": "text"
      },
      "source": [
        "<a href=\"https://colab.research.google.com/github/gabilodeau/INF8770/blob/master/Floyd-Steinberg%20sur%20matrice.ipynb\" target=\"_parent\"><img src=\"https://colab.research.google.com/assets/colab-badge.svg\" alt=\"Open In Colab\"/></a>"
      ]
    },
    {
      "cell_type": "markdown",
      "metadata": {
        "id": "sJ4iN-Fus1qS",
        "colab_type": "text"
      },
      "source": [
        "INF8770 Technologies multimédias \n",
        "\n",
        "Polytechnique Montréal\n",
        "\n",
        "Exemple de l'application de la méthode Floyd-Steinberg sur une image"
      ]
    },
    {
      "cell_type": "markdown",
      "metadata": {
        "collapsed": true,
        "id": "oYlQys_ws1qU",
        "colab_type": "text"
      },
      "source": [
        "---------------------------------------------------------"
      ]
    },
    {
      "cell_type": "markdown",
      "metadata": {
        "id": "ZQl14m7Js1qV",
        "colab_type": "text"
      },
      "source": [
        "Création d'une image synthétique"
      ]
    },
    {
      "cell_type": "code",
      "metadata": {
        "id": "K9SOBesYs1qW",
        "colab_type": "code",
        "colab": {
          "base_uri": "https://localhost:8080/",
          "height": 34
        },
        "outputId": "a0fb0179-a089-4167-bb52-5b14e597d11e"
      },
      "source": [
        "\n",
        "image=[[100,100,100,100,100],[100,100,100,100,100]]\n",
        "print(image)"
      ],
      "execution_count": 1,
      "outputs": [
        {
          "output_type": "stream",
          "text": [
            "[[100, 100, 100, 100, 100], [100, 100, 100, 100, 100]]\n"
          ],
          "name": "stdout"
        }
      ]
    },
    {
      "cell_type": "markdown",
      "metadata": {
        "id": "UyPWr3XGs1qb",
        "colab_type": "text"
      },
      "source": [
        "Attribution de l'étiquette et calcul de l'erreur"
      ]
    },
    {
      "cell_type": "code",
      "metadata": {
        "id": "Z5pSUZHds1qb",
        "colab_type": "code",
        "colab": {
          "base_uri": "https://localhost:8080/",
          "height": 527
        },
        "outputId": "2a356659-9595-45e5-9657-57e0cdfd71e2"
      },
      "source": [
        "for i in range(len(image)):\n",
        "    for j in range(len(image[0])):\n",
        "        temp=image[i][j]\n",
        "        if (temp-0)<(255-temp):\n",
        "            image[i][j]=0\n",
        "        else:\n",
        "            image[i][j]=255\n",
        "        erreur=temp-image[i][j]\n",
        "        #Diffusion de l'erreur et affichage du résultat intermédiaire\n",
        "        if (j+1)<len(image[0]):\n",
        "            image[i][j+1]=image[i][j+1]+0.4375*erreur\n",
        "        if (j-1)>=0 and (i+1)<len(image):\n",
        "            image[i+1][j-1]=image[i+1][j-1]+0.1875*erreur\n",
        "        if (i+1)<len(image):\n",
        "            image[i+1][j]=image[i+1][j]+0.3125*erreur\n",
        "        if (j+1)<len(image[0]) and (i+1)<len(image):\n",
        "            image[i+1][j+1]=image[i+1][j+1]+0.0625*erreur           \n",
        "        outformat = [\"%.2f\"%item for item in image[0]]    \n",
        "        print(str(outformat))\n",
        "        outformat = [\"%.2f\"%item for item in image[1]]    \n",
        "        print(str(outformat))\n",
        "        print()"
      ],
      "execution_count": 2,
      "outputs": [
        {
          "output_type": "stream",
          "text": [
            "['0.00', '143.75', '100.00', '100.00', '100.00']\n",
            "['131.25', '106.25', '100.00', '100.00', '100.00']\n",
            "\n",
            "['0.00', '255.00', '51.33', '100.00', '100.00']\n",
            "['110.39', '71.48', '93.05', '100.00', '100.00']\n",
            "\n",
            "['0.00', '255.00', '0.00', '122.46', '100.00']\n",
            "['110.39', '81.11', '109.09', '103.21', '100.00']\n",
            "\n",
            "['0.00', '255.00', '0.00', '0.00', '153.57']\n",
            "['110.39', '81.11', '132.05', '141.48', '107.65']\n",
            "\n",
            "['0.00', '255.00', '0.00', '0.00', '255.00']\n",
            "['110.39', '81.11', '132.05', '122.46', '75.96']\n",
            "\n",
            "['0.00', '255.00', '0.00', '0.00', '255.00']\n",
            "['0.00', '129.40', '132.05', '122.46', '75.96']\n",
            "\n",
            "['0.00', '255.00', '0.00', '0.00', '255.00']\n",
            "['0.00', '255.00', '77.10', '122.46', '75.96']\n",
            "\n",
            "['0.00', '255.00', '0.00', '0.00', '255.00']\n",
            "['0.00', '255.00', '0.00', '156.19', '75.96']\n",
            "\n",
            "['0.00', '255.00', '0.00', '0.00', '255.00']\n",
            "['0.00', '255.00', '0.00', '255.00', '32.73']\n",
            "\n",
            "['0.00', '255.00', '0.00', '0.00', '255.00']\n",
            "['0.00', '255.00', '0.00', '255.00', '0.00']\n",
            "\n"
          ],
          "name": "stdout"
        }
      ]
    },
    {
      "cell_type": "code",
      "metadata": {
        "id": "-OCmEwvAs1qh",
        "colab_type": "code",
        "colab": {}
      },
      "source": [
        ""
      ],
      "execution_count": null,
      "outputs": []
    }
  ]
}