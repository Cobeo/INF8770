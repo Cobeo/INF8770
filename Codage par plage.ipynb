{
  "nbformat": 4,
  "nbformat_minor": 0,
  "metadata": {
    "kernelspec": {
      "display_name": "Python 3",
      "language": "python",
      "name": "python3"
    },
    "language_info": {
      "codemirror_mode": {
        "name": "ipython",
        "version": 3
      },
      "file_extension": ".py",
      "mimetype": "text/x-python",
      "name": "python",
      "nbconvert_exporter": "python",
      "pygments_lexer": "ipython3",
      "version": "3.6.6"
    },
    "colab": {
      "name": "Codage par plage.ipynb",
      "provenance": [],
      "include_colab_link": true
    }
  },
  "cells": [
    {
      "cell_type": "markdown",
      "metadata": {
        "id": "view-in-github",
        "colab_type": "text"
      },
      "source": [
        "<a href=\"https://colab.research.google.com/github/gabilodeau/INF8770/blob/master/Codage%20par%20plage.ipynb\" target=\"_parent\"><img src=\"https://colab.research.google.com/assets/colab-badge.svg\" alt=\"Open In Colab\"/></a>"
      ]
    },
    {
      "cell_type": "markdown",
      "metadata": {
        "id": "y2920Yh8jcvw",
        "colab_type": "text"
      },
      "source": [
        "INF8770 Technologies multimédias\n",
        "\n",
        "Polytechnique Montréal\n",
        "\n",
        "Exemple de codage par plage"
      ]
    },
    {
      "cell_type": "code",
      "metadata": {
        "id": "xpnka97Sjcvz",
        "colab_type": "code",
        "colab": {}
      },
      "source": [
        "import numpy as np"
      ],
      "execution_count": 1,
      "outputs": []
    },
    {
      "cell_type": "markdown",
      "metadata": {
        "id": "u-qsGYiijcv8",
        "colab_type": "text"
      },
      "source": [
        "Message à coder et définition de la taille du compteur en bits"
      ]
    },
    {
      "cell_type": "code",
      "metadata": {
        "id": "xuPWPNY9jcv-",
        "colab_type": "code",
        "colab": {}
      },
      "source": [
        "Message = \"AAAABAAAAAABBBAABAAAACABBABCDAADACAAAAAAAAAAAAAAAAAAAAAABABABBBA\"\n",
        "compteur = 2 #La meilleure taille pour ce message est 2 bits. Plusieurs courtes répétitions"
      ],
      "execution_count": 2,
      "outputs": []
    },
    {
      "cell_type": "markdown",
      "metadata": {
        "id": "PJNvVnQqjcwD",
        "colab_type": "text"
      },
      "source": [
        "Construction du dictionnaire à partir des symboles contenus dans le message. "
      ]
    },
    {
      "cell_type": "code",
      "metadata": {
        "id": "uWXCp0HwjcwE",
        "colab_type": "code",
        "colab": {}
      },
      "source": [
        "dictsymb =[Message[0]]\n",
        "dictbin = [\"{:b}\".format(0)]\n",
        "nbsymboles = 1\n",
        "for i in range(1,len(Message)):\n",
        "    if Message[i] not in dictsymb:\n",
        "        dictsymb += [Message[i]]\n",
        "        dictbin += [\"{:b}\".format(nbsymboles)] \n",
        "        nbsymboles +=1\n",
        "        \n",
        "longueurOriginale = np.ceil(np.log2(nbsymboles))*len(Message) #Longueur du message avec codage binaire"
      ],
      "execution_count": 3,
      "outputs": []
    },
    {
      "cell_type": "markdown",
      "metadata": {
        "id": "xpyx94zgjcwJ",
        "colab_type": "text"
      },
      "source": [
        "Ajustement des codes binaires selon le nombre total de symboles en ajoutant des zéros. Tri des symboles. Affichage du dictionnaire."
      ]
    },
    {
      "cell_type": "code",
      "metadata": {
        "id": "3ZX4MinjjcwK",
        "colab_type": "code",
        "colab": {
          "base_uri": "https://localhost:8080/",
          "height": 85
        },
        "outputId": "55de64fd-e474-499b-b339-b147ddd4f26c"
      },
      "source": [
        "for i in range(nbsymboles):\n",
        "    dictbin[i] = \"{:b}\".format(i).zfill(int(np.ceil(np.log2(nbsymboles))))\n",
        "        \n",
        "dictsymb.sort()\n",
        "dictionnaire = np.transpose([dictsymb,dictbin])\n",
        "print(dictionnaire) "
      ],
      "execution_count": 4,
      "outputs": [
        {
          "output_type": "stream",
          "text": [
            "[['A' '00']\n",
            " ['B' '01']\n",
            " ['C' '10']\n",
            " ['D' '11']]\n"
          ],
          "name": "stdout"
        }
      ]
    },
    {
      "cell_type": "markdown",
      "metadata": {
        "id": "ZYyFCRpujcwO",
        "colab_type": "text"
      },
      "source": [
        "Codage du message"
      ]
    },
    {
      "cell_type": "code",
      "metadata": {
        "id": "g3UKu1tsjcwP",
        "colab_type": "code",
        "colab": {}
      },
      "source": [
        "i=0;\n",
        "MessageCode = []\n",
        "longueur = 0\n",
        "while i < len(Message):\n",
        "    carac = Message[i] #caractere qui sera codé\n",
        "    repetition = 1\n",
        "    #Calcul le nombre de répétitions.\n",
        "    i += 1\n",
        "    #tient compte de la limite du compteur\n",
        "    while i < len(Message) and repetition < 2**compteur and Message[i] == carac: \n",
        "        i += 1\n",
        "        repetition += 1\n",
        "    #Codage à l'aide du dictionnaire  \n",
        "    coderepetition = \"{:b}\".format(repetition-1).zfill(compteur)\n",
        "    codebinaire = dictbin[dictsymb.index(carac)]\n",
        "    MessageCode += [coderepetition, codebinaire]\n",
        "    longueur += len(codebinaire) + len(coderepetition)"
      ],
      "execution_count": 5,
      "outputs": []
    },
    {
      "cell_type": "markdown",
      "metadata": {
        "id": "ZWm4KS-mjcwS",
        "colab_type": "text"
      },
      "source": [
        "Affichage du message codé"
      ]
    },
    {
      "cell_type": "code",
      "metadata": {
        "id": "9PerV6TmjcwS",
        "colab_type": "code",
        "colab": {
          "base_uri": "https://localhost:8080/",
          "height": 54
        },
        "outputId": "f6ad6d8b-6f01-4fec-d39b-0a100cc27efe"
      },
      "source": [
        "print(MessageCode)"
      ],
      "execution_count": 6,
      "outputs": [
        {
          "output_type": "stream",
          "text": [
            "['11', '00', '00', '01', '11', '00', '01', '00', '10', '01', '01', '00', '00', '01', '11', '00', '00', '10', '00', '00', '01', '01', '00', '00', '00', '01', '00', '10', '00', '11', '01', '00', '00', '11', '00', '00', '00', '10', '11', '00', '11', '00', '11', '00', '11', '00', '11', '00', '01', '00', '00', '01', '00', '00', '00', '01', '00', '00', '10', '01', '00', '00']\n"
          ],
          "name": "stdout"
        }
      ]
    },
    {
      "cell_type": "markdown",
      "metadata": {
        "id": "SqDwTZdTjcwX",
        "colab_type": "text"
      },
      "source": [
        "Longueur en bits du message codé et celle de l'original"
      ]
    },
    {
      "cell_type": "code",
      "metadata": {
        "id": "s3j2BCIqjcwY",
        "colab_type": "code",
        "colab": {
          "base_uri": "https://localhost:8080/",
          "height": 51
        },
        "outputId": "ddcb0430-0cdc-47a9-e208-aa9e7adf654c"
      },
      "source": [
        "print(\"Longueur = {0}\".format(longueur))\n",
        "print(\"Longueur originale = {0}\".format(longueurOriginale))"
      ],
      "execution_count": 7,
      "outputs": [
        {
          "output_type": "stream",
          "text": [
            "Longueur = 124\n",
            "Longueur originale = 128.0\n"
          ],
          "name": "stdout"
        }
      ]
    }
  ]
}