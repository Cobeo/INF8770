{
  "nbformat": 4,
  "nbformat_minor": 0,
  "metadata": {
    "kernelspec": {
      "display_name": "Python 3",
      "language": "python",
      "name": "python3"
    },
    "language_info": {
      "codemirror_mode": {
        "name": "ipython",
        "version": 3
      },
      "file_extension": ".py",
      "mimetype": "text/x-python",
      "name": "python",
      "nbconvert_exporter": "python",
      "pygments_lexer": "ipython3",
      "version": "3.6.3"
    },
    "colab": {
      "name": "Moments invariants.ipynb",
      "provenance": [],
      "include_colab_link": true
    }
  },
  "cells": [
    {
      "cell_type": "markdown",
      "metadata": {
        "id": "view-in-github",
        "colab_type": "text"
      },
      "source": [
        "<a href=\"https://colab.research.google.com/github/gabilodeau/INF8770/blob/master/Moments%20invariants.ipynb\" target=\"_parent\"><img src=\"https://colab.research.google.com/assets/colab-badge.svg\" alt=\"Open In Colab\"/></a>"
      ]
    },
    {
      "cell_type": "markdown",
      "metadata": {
        "id": "ePQI2-v70y4a",
        "colab_type": "text"
      },
      "source": [
        "INF8770 Technologies multimédias \n",
        "\n",
        "Polytechnique Montréal\n",
        "\n",
        "Exemple de calcul des moments invariants"
      ]
    },
    {
      "cell_type": "code",
      "metadata": {
        "id": "iscH7cAU0y4b",
        "colab_type": "code",
        "colab": {}
      },
      "source": [
        "import numpy as np\n",
        "import matplotlib.pyplot as plt\n",
        "import cv2\n",
        "import imutils"
      ],
      "execution_count": 1,
      "outputs": []
    },
    {
      "cell_type": "markdown",
      "metadata": {
        "id": "yk45c55O0y4s",
        "colab_type": "text"
      },
      "source": [
        "Création d'une image binaire. Affichage."
      ]
    },
    {
      "cell_type": "code",
      "metadata": {
        "id": "WIkb-ERK0y4t",
        "colab_type": "code",
        "colab": {
          "base_uri": "https://localhost:8080/",
          "height": 268
        },
        "outputId": "e957fb1a-3b07-4ddc-c471-e1756a2c9f20"
      },
      "source": [
        "image = np.zeros((100,100))\n",
        "image[45:70,34:65] = 1\n",
        "plt.imshow(image, plt.get_cmap('binary'))\n",
        "plt.show()"
      ],
      "execution_count": 2,
      "outputs": [
        {
          "output_type": "display_data",
          "data": {
            "image/png": "[encoded data removed]",
            "text/plain": [
              "<Figure size 432x288 with 1 Axes>"
            ]
          },
          "metadata": {
            "tags": [],
            "needs_background": "light"
          }
        }
      ]
    },
    {
      "cell_type": "markdown",
      "metadata": {
        "id": "dixQwZ670y40",
        "colab_type": "text"
      },
      "source": [
        "Aire de la forme. "
      ]
    },
    {
      "cell_type": "code",
      "metadata": {
        "id": "vpDCUAEX0y41",
        "colab_type": "code",
        "colab": {
          "base_uri": "https://localhost:8080/",
          "height": 34
        },
        "outputId": "23833355-bd54-40be-8757-f420bea561ec"
      },
      "source": [
        "moment00 = sum(sum(image))\n",
        "print(moment00)"
      ],
      "execution_count": 3,
      "outputs": [
        {
          "output_type": "stream",
          "text": [
            "775.0\n"
          ],
          "name": "stdout"
        }
      ]
    },
    {
      "cell_type": "markdown",
      "metadata": {
        "id": "n9oaXn9B0y49",
        "colab_type": "text"
      },
      "source": [
        "moment10 et moment01 de la forme. Calcul aussi des centres de masse. "
      ]
    },
    {
      "cell_type": "code",
      "metadata": {
        "id": "3axdhbYo0y49",
        "colab_type": "code",
        "colab": {
          "base_uri": "https://localhost:8080/",
          "height": 85
        },
        "outputId": "b46ccbdf-0d35-4e46-c6b8-6764b4daee74"
      },
      "source": [
        "moment10 = 0.0\n",
        "moment01 = 0.0\n",
        "\n",
        "for i in range(0, len(image)):\n",
        "    for j in range(0, len(image[0])):\n",
        "        moment10 += i*image[i,j]\n",
        "        moment01 += j*image[i,j]\n",
        "        \n",
        "print(moment10)\n",
        "print(moment01)\n",
        "centrex = moment10 / moment00\n",
        "centrey = moment01 / moment00\n",
        "print(centrex)\n",
        "print(centrey)"
      ],
      "execution_count": 4,
      "outputs": [
        {
          "output_type": "stream",
          "text": [
            "44175.0\n",
            "37975.0\n",
            "57.0\n",
            "49.0\n"
          ],
          "name": "stdout"
        }
      ]
    },
    {
      "cell_type": "markdown",
      "metadata": {
        "id": "2CjWVnct0y5D",
        "colab_type": "text"
      },
      "source": [
        "eta20, eta02, et eta11 invariant à la position et à l'échelle."
      ]
    },
    {
      "cell_type": "code",
      "metadata": {
        "id": "ZRzg518L0y5E",
        "colab_type": "code",
        "colab": {
          "base_uri": "https://localhost:8080/",
          "height": 68
        },
        "outputId": "6932fad7-d248-4f5f-efd4-0b0260eaf1c0"
      },
      "source": [
        "eta20 = 0.0\n",
        "eta02 = 0.0\n",
        "eta11 = 0.0\n",
        "\n",
        "for i in range(0, len(image)):\n",
        "    for j in range(0, len(image[0])):\n",
        "        eta20 += (i-centrex)**2 * image[i,j] #Invariance à la position.\n",
        "        eta02 += (j-centrey)**2 * image[i,j]\n",
        "        eta11 += (i-centrex) * (j-centrey) * image[i,j]\n",
        "        \n",
        "eta20 = eta20 / moment00**2 #Invariance à l'échelle\n",
        "eta02 = eta02 / moment00**2 \n",
        "eta11 = eta11 / moment00**2\n",
        "\n",
        "print(eta20)\n",
        "print(eta02)\n",
        "print(eta11)"
      ],
      "execution_count": 5,
      "outputs": [
        {
          "output_type": "stream",
          "text": [
            "0.06709677419354838\n",
            "0.1032258064516129\n",
            "0.0\n"
          ],
          "name": "stdout"
        }
      ]
    },
    {
      "cell_type": "markdown",
      "metadata": {
        "id": "2YWD9vON0y5M",
        "colab_type": "text"
      },
      "source": [
        "Vérification avec opencv. Note: nuij correspond à $\\eta_{ij}$..."
      ]
    },
    {
      "cell_type": "code",
      "metadata": {
        "id": "jGRaIUAw0y5N",
        "colab_type": "code",
        "colab": {
          "base_uri": "https://localhost:8080/",
          "height": 54
        },
        "outputId": "83475efd-e454-4d82-da52-33b272d36c73"
      },
      "source": [
        "moment = cv2.moments(image)\n",
        "print(moment)"
      ],
      "execution_count": 6,
      "outputs": [
        {
          "output_type": "stream",
          "text": [
            "{'m00': 775.0, 'm10': 37975.0, 'm01': 44175.0, 'm20': 1922775.0, 'm11': 2164575.0, 'm02': 2558275.0, 'm30': 100291975.0, 'm21': 109598175.0, 'm12': 125355475.0, 'm03': 150415875.0, 'mu20': 62000.0, 'mu11': 0.0, 'mu02': 40300.0, 'mu30': 0.0, 'mu21': 0.0, 'mu12': 0.0, 'mu03': 0.0, 'nu20': 0.1032258064516129, 'nu11': 0.0, 'nu02': 0.06709677419354838, 'nu30': 0.0, 'nu21': 0.0, 'nu12': 0.0, 'nu03': 0.0}\n"
          ],
          "name": "stdout"
        }
      ]
    },
    {
      "cell_type": "markdown",
      "metadata": {
        "id": "Ye0Z6kxj0y5T",
        "colab_type": "text"
      },
      "source": [
        "Calcul des moments de Hu"
      ]
    },
    {
      "cell_type": "code",
      "metadata": {
        "id": "ybtBY-La0y5U",
        "colab_type": "code",
        "colab": {
          "base_uri": "https://localhost:8080/",
          "height": 51
        },
        "outputId": "d23a3cbf-64ed-45d2-ab4e-685143948b8d"
      },
      "source": [
        "momentHu1 = eta20 + eta02\n",
        "momentHu2 = (eta20 - eta02)**2 + 4 * eta11**2\n",
        "print(momentHu1)\n",
        "print(momentHu2)"
      ],
      "execution_count": 7,
      "outputs": [
        {
          "output_type": "stream",
          "text": [
            "0.1703225806451613\n",
            "0.0013053069719042667\n"
          ],
          "name": "stdout"
        }
      ]
    },
    {
      "cell_type": "markdown",
      "metadata": {
        "id": "8uzUjxiz0y5a",
        "colab_type": "text"
      },
      "source": [
        "Calcul avec opencv"
      ]
    },
    {
      "cell_type": "code",
      "metadata": {
        "id": "NErsVwO60y5b",
        "colab_type": "code",
        "colab": {
          "base_uri": "https://localhost:8080/",
          "height": 136
        },
        "outputId": "9a760535-efc2-428e-ca69-3960f939249b"
      },
      "source": [
        "momentsHu = cv2.HuMoments(moment)\n",
        "print(momentsHu)"
      ],
      "execution_count": 8,
      "outputs": [
        {
          "output_type": "stream",
          "text": [
            "[[0.17032258]\n",
            " [0.00130531]\n",
            " [0.        ]\n",
            " [0.        ]\n",
            " [0.        ]\n",
            " [0.        ]\n",
            " [0.        ]]\n"
          ],
          "name": "stdout"
        }
      ]
    },
    {
      "cell_type": "markdown",
      "metadata": {
        "id": "Ex_7aPBW0y5m",
        "colab_type": "text"
      },
      "source": [
        "Test de l'invariance aux translations."
      ]
    },
    {
      "cell_type": "code",
      "metadata": {
        "id": "P1yM-_d70y5s",
        "colab_type": "code",
        "colab": {
          "base_uri": "https://localhost:8080/",
          "height": 305
        },
        "outputId": "e737a85c-adc9-4932-fef0-f175883c791a"
      },
      "source": [
        "image = np.zeros((100,100))\n",
        "image[55:80,39:70] = 1 #Translation en x et y\n",
        "plt.imshow(image, plt.get_cmap('binary'))\n",
        "plt.show()\n",
        "moment = cv2.moments(image)\n",
        "print(moment)"
      ],
      "execution_count": 9,
      "outputs": [
        {
          "output_type": "display_data",
          "data": {
            "image/png": "[encoded data removed]",
            "text/plain": [
              "<Figure size 432x288 with 1 Axes>"
            ]
          },
          "metadata": {
            "tags": [],
            "needs_background": "light"
          }
        },
        {
          "output_type": "stream",
          "text": [
            "{'m00': 775.0, 'm10': 41850.0, 'm01': 51925.0, 'm20': 2321900.0, 'm11': 2803950.0, 'm02': 3519275.0, 'm30': 132078600.0, 'm21': 155567300.0, 'm12': 190040850.0, 'm03': 241191625.0, 'mu20': 62000.0, 'mu11': 0.0, 'mu02': 40300.0, 'mu30': 0.0, 'mu21': 0.0, 'mu12': 0.0, 'mu03': 0.0, 'nu20': 0.1032258064516129, 'nu11': 0.0, 'nu02': 0.06709677419354838, 'nu30': 0.0, 'nu21': 0.0, 'nu12': 0.0, 'nu03': 0.0}\n"
          ],
          "name": "stdout"
        }
      ]
    },
    {
      "cell_type": "markdown",
      "metadata": {
        "id": "Og0ONo1Q0y5v",
        "colab_type": "text"
      },
      "source": [
        "mij ne sont pas invariants aux rotations, car on ne soustrait pas le centre de centre. Les muij soustraient le centre. On voit que les résultats sont similaires à ceux précédents. Même chose pour nuij. Testons l'invariance à la rotation.  "
      ]
    },
    {
      "cell_type": "code",
      "metadata": {
        "id": "a6Ris11N0y5z",
        "colab_type": "code",
        "colab": {
          "base_uri": "https://localhost:8080/",
          "height": 305
        },
        "outputId": "7f5a3e65-8d4a-407b-daf0-83fd000d7b0a"
      },
      "source": [
        "imagemodif = imutils.rotate(image, 10)\n",
        "plt.imshow(imagemodif, plt.get_cmap('binary'))\n",
        "plt.show()\n",
        "moment = cv2.moments(imagemodif)\n",
        "print(moment)"
      ],
      "execution_count": 10,
      "outputs": [
        {
          "output_type": "display_data",
          "data": {
            "image/png": "[encoded data removed]",
            "text/plain": [
              "<Figure size 432x288 with 1 Axes>"
            ]
          },
          "metadata": {
            "tags": [],
            "needs_background": "light"
          }
        },
        {
          "output_type": "stream",
          "text": [
            "{'m00': 774.8955078125, 'm10': 44085.044921875, 'm01': 51178.0810546875, 'm20': 2569523.86328125, 'm11': 2907897.392578125, 'm02': 3421141.2744140625, 'm30': 153176874.7421875, 'm21': 169282877.10546875, 'm12': 194144825.99023438, 'm03': 231375729.0263672, 'mu20': 61455.14153818926, 'mu11': -3705.500411137473, 'mu02': 41077.82839660812, 'mu30': -10.521272957324982, 'mu21': -58.361665366217494, 'mu12': 87.18469202751294, 'mu03': -1.6319489479064941, 'nu20': 0.10234625051452685, 'nu11': -0.0061710715144035495, 'nu02': 0.06841025194058764, 'nu30': -6.294488287117647e-07, 'nu21': -3.4915624806462163e-06, 'nu12': 5.215937510689455e-06, 'nu03': -9.763346678141032e-08}\n"
          ],
          "name": "stdout"
        }
      ]
    },
    {
      "cell_type": "markdown",
      "metadata": {
        "id": "s16WnOF40y54",
        "colab_type": "text"
      },
      "source": [
        "À cause des erreurs d'interpolation les valeurs changent légèrement. On constate quand même la robustesse aux rotations. Testons l'invariance à la mise à l'échelle."
      ]
    },
    {
      "cell_type": "code",
      "metadata": {
        "id": "-4UpAnsF0y55",
        "colab_type": "code",
        "colab": {
          "base_uri": "https://localhost:8080/",
          "height": 306
        },
        "outputId": "e16af4d0-1bcd-4ce7-e03f-e05dbf52edbf"
      },
      "source": [
        "imagemodif2 = imutils.resize(image, 200) #L'image sera 2 fois plus grosses.\n",
        "plt.imshow(imagemodif2, plt.get_cmap('binary'))\n",
        "plt.show()\n",
        "moment = cv2.moments(imagemodif2)\n",
        "print(moment)"
      ],
      "execution_count": 11,
      "outputs": [
        {
          "output_type": "display_data",
          "data": {
            "image/png": "[encoded data removed]",
            "text/plain": [
              "<Figure size 432x288 with 1 Axes>"
            ]
          },
          "metadata": {
            "tags": [],
            "needs_background": "light"
          }
        },
        {
          "output_type": "stream",
          "text": [
            "{'m00': 3100.0, 'm10': 336350.0, 'm01': 416950.0, 'm20': 37486750.0, 'm11': 45239075.0, 'm02': 56725350.0, 'm30': 4282744550.0, 'm21': 5041967875.0, 'm12': 6154700475.0, 'm03': 7803219250.0, 'mu20': 992775.0, 'mu11': 0.0, 'mu02': 645575.0, 'mu30': 0.0, 'mu21': 0.0, 'mu12': 0.0, 'mu03': 0.0, 'nu20': 0.10330645161290322, 'nu11': 0.0, 'nu02': 0.0671774193548387, 'nu30': 0.0, 'nu21': 0.0, 'nu12': 0.0, 'nu03': 0.0}\n"
          ],
          "name": "stdout"
        }
      ]
    },
    {
      "cell_type": "markdown",
      "metadata": {
        "id": "qqKwmCVJ0y5-",
        "colab_type": "text"
      },
      "source": [
        "Ici, seules les valeurs de nuij seront similaires, car on divise par une puissance de l'aire."
      ]
    },
    {
      "cell_type": "code",
      "metadata": {
        "id": "Q_AmDPbJ0y5-",
        "colab_type": "code",
        "colab": {}
      },
      "source": [
        ""
      ],
      "execution_count": null,
      "outputs": []
    }
  ]
}