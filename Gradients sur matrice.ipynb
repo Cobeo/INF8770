{
  "nbformat": 4,
  "nbformat_minor": 0,
  "metadata": {
    "kernelspec": {
      "display_name": "Python 3",
      "language": "python",
      "name": "python3"
    },
    "language_info": {
      "codemirror_mode": {
        "name": "ipython",
        "version": 3
      },
      "file_extension": ".py",
      "mimetype": "text/x-python",
      "name": "python",
      "nbconvert_exporter": "python",
      "pygments_lexer": "ipython3",
      "version": "3.6.3"
    },
    "colab": {
      "name": "Gradients sur matrice.ipynb",
      "provenance": [],
      "include_colab_link": true
    }
  },
  "cells": [
    {
      "cell_type": "markdown",
      "metadata": {
        "id": "view-in-github",
        "colab_type": "text"
      },
      "source": [
        "<a href=\"https://colab.research.google.com/github/gabilodeau/INF8770/blob/master/Gradients%20sur%20matrice.ipynb\" target=\"_parent\"><img src=\"https://colab.research.google.com/assets/colab-badge.svg\" alt=\"Open In Colab\"/></a>"
      ]
    },
    {
      "cell_type": "markdown",
      "metadata": {
        "id": "G6X5asjHzpsf",
        "colab_type": "text"
      },
      "source": [
        "INF8770 Technologies multimédias\n",
        "\n",
        "Polytechnique Montréal\n",
        "\n",
        "Exemple du calcul de gradients et d'extraction d'arêtes "
      ]
    },
    {
      "cell_type": "code",
      "metadata": {
        "id": "A9KKNFmhzpsg",
        "colab_type": "code",
        "colab": {}
      },
      "source": [
        "import numpy as np"
      ],
      "execution_count": 1,
      "outputs": []
    },
    {
      "cell_type": "markdown",
      "metadata": {
        "id": "Zic_VnUqzpso",
        "colab_type": "text"
      },
      "source": [
        "Matrice 3 x 3. On calculera les gradients pour la valeur du centre."
      ]
    },
    {
      "cell_type": "code",
      "metadata": {
        "id": "j7r9SZLPzpsp",
        "colab_type": "code",
        "colab": {
          "base_uri": "https://localhost:8080/",
          "height": 34
        },
        "outputId": "e7a34f37-4cbe-4dfa-f6f4-2ed1df5a8e54"
      },
      "source": [
        "Matrice = [[50,60,35],[10,30,15],[50,70,30]]\n",
        "print(Matrice)"
      ],
      "execution_count": 2,
      "outputs": [
        {
          "output_type": "stream",
          "text": [
            "[[50, 60, 35], [10, 30, 15], [50, 70, 30]]\n"
          ],
          "name": "stdout"
        }
      ]
    },
    {
      "cell_type": "markdown",
      "metadata": {
        "id": "9SS_-oUhzpsv",
        "colab_type": "text"
      },
      "source": [
        "Calcul du gradient."
      ]
    },
    {
      "cell_type": "code",
      "metadata": {
        "id": "Sr5mW3Anzpsw",
        "colab_type": "code",
        "colab": {
          "base_uri": "https://localhost:8080/",
          "height": 51
        },
        "outputId": "deb45028-3040-4025-e463-8ec1553cb0fa"
      },
      "source": [
        "Gx = 0\n",
        "Gy = 0\n",
        "#Filtres Sobel\n",
        "Sobelx= [[-1.0,0.0,1.0],[-2.0,0.0,2.0],[-1.0,0.0,1.0]]\n",
        "Sobely= [[-1.0,-2.0,-1.0],[0.0,0.0,0.0],[1.0,2.0,1.0]]\n",
        "for i in range(-1,2):\n",
        "    for j in range(-1,2):\n",
        "        #Convolutions. On calcule en X et Y simultanément. \n",
        "        Gx += np.multiply(Sobelx[i+1][j+1],Matrice[1-i][1-j])\n",
        "        Gy += np.multiply(Sobely[i+1][j+1],Matrice[1-i][1-j])\n",
        "        \n",
        "print(Gx)\n",
        "print(Gy)"
      ],
      "execution_count": 3,
      "outputs": [
        {
          "output_type": "stream",
          "text": [
            "25.0\n",
            "-15.0\n"
          ],
          "name": "stdout"
        }
      ]
    },
    {
      "cell_type": "markdown",
      "metadata": {
        "id": "8VOcE0xmzps5",
        "colab_type": "text"
      },
      "source": [
        "Force et angle du gradient:"
      ]
    },
    {
      "cell_type": "code",
      "metadata": {
        "id": "Xh_YkJBszps6",
        "colab_type": "code",
        "colab": {
          "base_uri": "https://localhost:8080/",
          "height": 51
        },
        "outputId": "4a29f5c6-b1ae-42c3-91f8-c021a0a93864"
      },
      "source": [
        "ForceGradient = np.sqrt(np.power(Gx,2)+np.power(Gy,2))\n",
        "AngleGradient = np.arctan2(Gy,Gx)* 180 / np.pi\n",
        "\n",
        "print(ForceGradient)\n",
        "print(AngleGradient)"
      ],
      "execution_count": 4,
      "outputs": [
        {
          "output_type": "stream",
          "text": [
            "29.154759474226502\n",
            "-30.96375653207352\n"
          ],
          "name": "stdout"
        }
      ]
    },
    {
      "cell_type": "code",
      "metadata": {
        "id": "8fnfIlc-zptB",
        "colab_type": "code",
        "colab": {}
      },
      "source": [
        ""
      ],
      "execution_count": null,
      "outputs": []
    }
  ]
}