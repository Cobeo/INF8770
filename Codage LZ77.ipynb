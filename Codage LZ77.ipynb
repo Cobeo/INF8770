{
 "cells": [
  {
   "cell_type": "markdown",
   "metadata": {},
   "source": [
    "INF8770 Technologies multimédias\n",
    "\n",
    "Polytechnique Montréal\n",
    "\n",
    "Exemple de codage LZ77\n",
    "\n",
    "Code original par Hughes Perreault. Version Notebook par G.-A. Bilodeau"
   ]
  },
  {
   "cell_type": "markdown",
   "metadata": {},
   "source": [
    "Message à compresser. Ici, une chaine de caractères."
   ]
  },
  {
   "cell_type": "code",
   "execution_count": 1,
   "metadata": {},
   "outputs": [],
   "source": [
    "message = \"ABAACABAABBAABBABCEDAABADA\""
   ]
  },
  {
   "cell_type": "markdown",
   "metadata": {},
   "source": [
    "Paramètre de la méthode. Il faut choisir la taille du dictionnaire."
   ]
  },
  {
   "cell_type": "code",
   "execution_count": 2,
   "metadata": {},
   "outputs": [],
   "source": [
    "tailleDict = 4  # Taille du dictionnaire (0,1,2,3,...)"
   ]
  },
  {
   "cell_type": "markdown",
   "metadata": {},
   "source": [
    "Application du codage LZ77."
   ]
  },
  {
   "cell_type": "code",
   "execution_count": 3,
   "metadata": {},
   "outputs": [
    {
     "name": "stdout",
     "output_type": "stream",
     "text": [
      "\n",
      "[(0, 0, 'A')]\n",
      "A\n",
      "[(0, 0, 'A'), (0, 0, 'B')]\n",
      "AB\n",
      "[(0, 0, 'A'), (0, 0, 'B'), (0, 1, 'A')]\n",
      "ABAA\n",
      "[(0, 0, 'A'), (0, 0, 'B'), (0, 1, 'A'), (0, 0, 'C')]\n",
      "BAAC\n",
      "[(0, 0, 'A'), (0, 0, 'B'), (0, 1, 'A'), (0, 0, 'C'), (2, 1, 'B')]\n",
      "ACAB\n",
      "[(0, 0, 'A'), (0, 0, 'B'), (0, 1, 'A'), (0, 0, 'C'), (2, 1, 'B'), (2, 1, 'A')]\n",
      "ABAA\n",
      "[(0, 0, 'A'), (0, 0, 'B'), (0, 1, 'A'), (0, 0, 'C'), (2, 1, 'B'), (2, 1, 'A'), (1, 1, 'B')]\n",
      "AABB\n",
      "[(0, 0, 'A'), (0, 0, 'B'), (0, 1, 'A'), (0, 0, 'C'), (2, 1, 'B'), (2, 1, 'A'), (1, 1, 'B'), (0, 5, 'B')]\n",
      "BBAB\n",
      "[(0, 0, 'A'), (0, 0, 'B'), (0, 1, 'A'), (0, 0, 'C'), (2, 1, 'B'), (2, 1, 'A'), (1, 1, 'B'), (0, 5, 'B'), (0, 0, 'C')]\n",
      "BABC\n",
      "[(0, 0, 'A'), (0, 0, 'B'), (0, 1, 'A'), (0, 0, 'C'), (2, 1, 'B'), (2, 1, 'A'), (1, 1, 'B'), (0, 5, 'B'), (0, 0, 'C'), (0, 0, 'E')]\n",
      "ABCE\n",
      "[(0, 0, 'A'), (0, 0, 'B'), (0, 1, 'A'), (0, 0, 'C'), (2, 1, 'B'), (2, 1, 'A'), (1, 1, 'B'), (0, 5, 'B'), (0, 0, 'C'), (0, 0, 'E'), (0, 0, 'D')]\n",
      "BCED\n",
      "[(0, 0, 'A'), (0, 0, 'B'), (0, 1, 'A'), (0, 0, 'C'), (2, 1, 'B'), (2, 1, 'A'), (1, 1, 'B'), (0, 5, 'B'), (0, 0, 'C'), (0, 0, 'E'), (0, 0, 'D'), (0, 0, 'A')]\n",
      "CEDA\n",
      "[(0, 0, 'A'), (0, 0, 'B'), (0, 1, 'A'), (0, 0, 'C'), (2, 1, 'B'), (2, 1, 'A'), (1, 1, 'B'), (0, 5, 'B'), (0, 0, 'C'), (0, 0, 'E'), (0, 0, 'D'), (0, 0, 'A'), (3, 1, 'B')]\n",
      "DAAB\n",
      "[(0, 0, 'A'), (0, 0, 'B'), (0, 1, 'A'), (0, 0, 'C'), (2, 1, 'B'), (2, 1, 'A'), (1, 1, 'B'), (0, 5, 'B'), (0, 0, 'C'), (0, 0, 'E'), (0, 0, 'D'), (0, 0, 'A'), (3, 1, 'B'), (2, 1, 'D')]\n",
      "ABAD\n",
      "[(0, 0, 'A'), (0, 0, 'B'), (0, 1, 'A'), (0, 0, 'C'), (2, 1, 'B'), (2, 1, 'A'), (1, 1, 'B'), (0, 5, 'B'), (0, 0, 'C'), (0, 0, 'E'), (0, 0, 'D'), (0, 0, 'A'), (3, 1, 'B'), (2, 1, 'D'), (0, 0, 'A')]\n"
     ]
    }
   ],
   "source": [
    "triplets = []  # Pour sauvegarder les triplets\n",
    "\n",
    "index = 0  # Position courante dans le message\n",
    "while index < len(message):\n",
    "    symbDict = message[max(0, index - tailleDict): index]  # Symboles disponibles du dictionnaire\n",
    "    print(symbDict)\n",
    "    sousChaine = message[index:len(message)-1] #Le dernier caractère sera ajouté comme 3e élément du dernier triplet\n",
    "\n",
    "    # On cherche la sous-chaine la plus longue\n",
    "    pos, length = 0, 0\n",
    "    while len(sousChaine) > 0:\n",
    "        if sousChaine in symbDict:\n",
    "            pos, length = symbDict.rfind(sousChaine), len(sousChaine) #dernière occurrence si plusieurs choix\n",
    "            break\n",
    "        sousChaine = sousChaine[:-1] # On a pas trouvé, donc on enlève un élément.\n",
    "     \n",
    "    # Regarde ensuite si on peut allonger la sous-chaine trouvée après la position de l'index: AB|ABABABABAB\n",
    "    increment = 0\n",
    "    while length > 0 \\\n",
    "            and index+length+increment < (len(message)-1) \\\n",
    "            and message[index-len(symbDict)+pos+length+increment] == message[index+length+increment]:\n",
    "        increment += 1\n",
    "    length += increment\n",
    "\n",
    "    # Enregistrement des triplets\n",
    "    c = message[index + length]  #Caractère suivant non encodé.\n",
    "        \n",
    "    triplets.append((pos, length, c))\n",
    "\n",
    "    index += max(length+1, 1)  # Avance la position dans le message\n",
    "\n",
    "    print(triplets)"
   ]
  },
  {
   "cell_type": "markdown",
   "metadata": {},
   "source": [
    "Décodage du message. "
   ]
  },
  {
   "cell_type": "code",
   "execution_count": 4,
   "metadata": {},
   "outputs": [
    {
     "name": "stdout",
     "output_type": "stream",
     "text": [
      "ABAACABAABBAABBABCEDAABADA\n",
      "True\n"
     ]
    }
   ],
   "source": [
    "messageDecode = ''\n",
    "for triplet in triplets:\n",
    "    pos, length, char = triplet[0], triplet[1], triplet[2]\n",
    "    if (pos, length) == (0, 0):\n",
    "        messageDecode += char\n",
    "    else:\n",
    "        start = max(0, len(messageDecode) - tailleDict)\n",
    "        for i in range(length):\n",
    "            messageDecode += messageDecode[start+pos+i]\n",
    "        messageDecode += char\n",
    "print(messageDecode)\n",
    "print(message == messageDecode)"
   ]
  },
  {
   "cell_type": "code",
   "execution_count": 5,
   "metadata": {},
   "outputs": [
    {
     "name": "stdout",
     "output_type": "stream",
     "text": [
      "Taux de compression:  -0.7307692307692308\n"
     ]
    }
   ],
   "source": [
    "print('Taux de compression: ', 1 - (len(triplets) * 3) / (len(message))) \n",
    "#On suppose des octets pour position, longueur"
   ]
  },
  {
   "cell_type": "code",
   "execution_count": null,
   "metadata": {},
   "outputs": [],
   "source": []
  }
 ],
 "metadata": {
  "kernelspec": {
   "display_name": "Python 3",
   "language": "python",
   "name": "python3"
  },
  "language_info": {
   "codemirror_mode": {
    "name": "ipython",
    "version": 3
   },
   "file_extension": ".py",
   "mimetype": "text/x-python",
   "name": "python",
   "nbconvert_exporter": "python",
   "pygments_lexer": "ipython3",
   "version": "3.7.3"
  }
 },
 "nbformat": 4,
 "nbformat_minor": 2
}
