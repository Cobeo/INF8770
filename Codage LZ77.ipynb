{
  "nbformat": 4,
  "nbformat_minor": 0,
  "metadata": {
    "kernelspec": {
      "display_name": "Python 3",
      "language": "python",
      "name": "python3"
    },
    "language_info": {
      "codemirror_mode": {
        "name": "ipython",
        "version": 3
      },
      "file_extension": ".py",
      "mimetype": "text/x-python",
      "name": "python",
      "nbconvert_exporter": "python",
      "pygments_lexer": "ipython3",
      "version": "3.7.3"
    },
    "colab": {
      "name": "Codage LZ77.ipynb",
      "provenance": [],
      "include_colab_link": true
    }
  },
  "cells": [
    {
      "cell_type": "markdown",
      "metadata": {
        "id": "view-in-github",
        "colab_type": "text"
      },
      "source": [
        "<a href=\"https://colab.research.google.com/github/gabilodeau/INF8770/blob/master/Codage%20LZ77.ipynb\" target=\"_parent\"><img src=\"https://colab.research.google.com/assets/colab-badge.svg\" alt=\"Open In Colab\"/></a>"
      ]
    },
    {
      "cell_type": "markdown",
      "metadata": {
        "id": "ewoVov79hKE9",
        "colab_type": "text"
      },
      "source": [
        "INF8770 Technologies multimédias\n",
        "\n",
        "Polytechnique Montréal\n",
        "\n",
        "Exemple de codage LZ77\n",
        "\n",
        "Code original par Hughes Perreault. Version Notebook par G.-A. Bilodeau"
      ]
    },
    {
      "cell_type": "markdown",
      "metadata": {
        "id": "aKnE9vhhhKE_",
        "colab_type": "text"
      },
      "source": [
        "Message à compresser. Ici, une chaine de caractères."
      ]
    },
    {
      "cell_type": "code",
      "metadata": {
        "id": "3Heq5COzhKFC",
        "colab_type": "code",
        "colab": {}
      },
      "source": [
        "message = \"ABAACABAABBAABBABCEDAABADA\""
      ],
      "execution_count": 1,
      "outputs": []
    },
    {
      "cell_type": "markdown",
      "metadata": {
        "id": "uc0ha1Y5hKFN",
        "colab_type": "text"
      },
      "source": [
        "Paramètre de la méthode. Il faut choisir la taille du dictionnaire."
      ]
    },
    {
      "cell_type": "code",
      "metadata": {
        "id": "jVNzq4dyhKFP",
        "colab_type": "code",
        "colab": {}
      },
      "source": [
        "tailleDict = 4  # Taille du dictionnaire (0,1,2,3,...)"
      ],
      "execution_count": 2,
      "outputs": []
    },
    {
      "cell_type": "markdown",
      "metadata": {
        "id": "399Nvkg5hKFX",
        "colab_type": "text"
      },
      "source": [
        "Application du codage LZ77."
      ]
    },
    {
      "cell_type": "code",
      "metadata": {
        "id": "JHo8VEsChKFY",
        "colab_type": "code",
        "colab": {
          "base_uri": "https://localhost:8080/",
          "height": 547
        },
        "outputId": "9be146cc-d5d6-4c49-80a0-b3682dbe97ab"
      },
      "source": [
        "triplets = []  # Pour sauvegarder les triplets\n",
        "\n",
        "index = 0  # Position courante dans le message\n",
        "while index < len(message):\n",
        "    symbDict = message[max(0, index - tailleDict): index]  # Symboles disponibles du dictionnaire\n",
        "    print(symbDict)\n",
        "    sousChaine = message[index:len(message)-1] #Le dernier caractère sera ajouté comme 3e élément du dernier triplet\n",
        "\n",
        "    # On cherche la sous-chaine la plus longue\n",
        "    pos, length = 0, 0\n",
        "    while len(sousChaine) > 0:\n",
        "        if sousChaine in symbDict:\n",
        "            pos, length = symbDict.rfind(sousChaine), len(sousChaine) #dernière occurrence si plusieurs choix\n",
        "            break\n",
        "        sousChaine = sousChaine[:-1] # On a pas trouvé, donc on enlève un élément.\n",
        "     \n",
        "    # Regarde ensuite si on peut allonger la sous-chaine trouvée après la position de l'index: AB|ABABABABAB\n",
        "    increment = 0\n",
        "    while length > 0 \\\n",
        "            and index+length+increment < (len(message)-1) \\\n",
        "            and message[index-len(symbDict)+pos+length+increment] == message[index+length+increment]:\n",
        "        increment += 1\n",
        "    length += increment\n",
        "\n",
        "    # Enregistrement des triplets\n",
        "    c = message[index + length]  #Caractère suivant non encodé.\n",
        "        \n",
        "    triplets.append((pos, length, c))\n",
        "\n",
        "    index += max(length+1, 1)  # Avance la position dans le message\n",
        "\n",
        "    print(triplets)"
      ],
      "execution_count": 3,
      "outputs": [
        {
          "output_type": "stream",
          "text": [
            "\n",
            "[(0, 0, 'A')]\n",
            "A\n",
            "[(0, 0, 'A'), (0, 0, 'B')]\n",
            "AB\n",
            "[(0, 0, 'A'), (0, 0, 'B'), (0, 1, 'A')]\n",
            "ABAA\n",
            "[(0, 0, 'A'), (0, 0, 'B'), (0, 1, 'A'), (0, 0, 'C')]\n",
            "BAAC\n",
            "[(0, 0, 'A'), (0, 0, 'B'), (0, 1, 'A'), (0, 0, 'C'), (2, 1, 'B')]\n",
            "ACAB\n",
            "[(0, 0, 'A'), (0, 0, 'B'), (0, 1, 'A'), (0, 0, 'C'), (2, 1, 'B'), (2, 1, 'A')]\n",
            "ABAA\n",
            "[(0, 0, 'A'), (0, 0, 'B'), (0, 1, 'A'), (0, 0, 'C'), (2, 1, 'B'), (2, 1, 'A'), (1, 1, 'B')]\n",
            "AABB\n",
            "[(0, 0, 'A'), (0, 0, 'B'), (0, 1, 'A'), (0, 0, 'C'), (2, 1, 'B'), (2, 1, 'A'), (1, 1, 'B'), (0, 5, 'B')]\n",
            "BBAB\n",
            "[(0, 0, 'A'), (0, 0, 'B'), (0, 1, 'A'), (0, 0, 'C'), (2, 1, 'B'), (2, 1, 'A'), (1, 1, 'B'), (0, 5, 'B'), (0, 0, 'C')]\n",
            "BABC\n",
            "[(0, 0, 'A'), (0, 0, 'B'), (0, 1, 'A'), (0, 0, 'C'), (2, 1, 'B'), (2, 1, 'A'), (1, 1, 'B'), (0, 5, 'B'), (0, 0, 'C'), (0, 0, 'E')]\n",
            "ABCE\n",
            "[(0, 0, 'A'), (0, 0, 'B'), (0, 1, 'A'), (0, 0, 'C'), (2, 1, 'B'), (2, 1, 'A'), (1, 1, 'B'), (0, 5, 'B'), (0, 0, 'C'), (0, 0, 'E'), (0, 0, 'D')]\n",
            "BCED\n",
            "[(0, 0, 'A'), (0, 0, 'B'), (0, 1, 'A'), (0, 0, 'C'), (2, 1, 'B'), (2, 1, 'A'), (1, 1, 'B'), (0, 5, 'B'), (0, 0, 'C'), (0, 0, 'E'), (0, 0, 'D'), (0, 0, 'A')]\n",
            "CEDA\n",
            "[(0, 0, 'A'), (0, 0, 'B'), (0, 1, 'A'), (0, 0, 'C'), (2, 1, 'B'), (2, 1, 'A'), (1, 1, 'B'), (0, 5, 'B'), (0, 0, 'C'), (0, 0, 'E'), (0, 0, 'D'), (0, 0, 'A'), (3, 1, 'B')]\n",
            "DAAB\n",
            "[(0, 0, 'A'), (0, 0, 'B'), (0, 1, 'A'), (0, 0, 'C'), (2, 1, 'B'), (2, 1, 'A'), (1, 1, 'B'), (0, 5, 'B'), (0, 0, 'C'), (0, 0, 'E'), (0, 0, 'D'), (0, 0, 'A'), (3, 1, 'B'), (2, 1, 'D')]\n",
            "ABAD\n",
            "[(0, 0, 'A'), (0, 0, 'B'), (0, 1, 'A'), (0, 0, 'C'), (2, 1, 'B'), (2, 1, 'A'), (1, 1, 'B'), (0, 5, 'B'), (0, 0, 'C'), (0, 0, 'E'), (0, 0, 'D'), (0, 0, 'A'), (3, 1, 'B'), (2, 1, 'D'), (0, 0, 'A')]\n"
          ],
          "name": "stdout"
        }
      ]
    },
    {
      "cell_type": "markdown",
      "metadata": {
        "id": "FevmjX9ehKFh",
        "colab_type": "text"
      },
      "source": [
        "Décodage du message. "
      ]
    },
    {
      "cell_type": "code",
      "metadata": {
        "id": "GYCw_0CRhKFi",
        "colab_type": "code",
        "colab": {
          "base_uri": "https://localhost:8080/",
          "height": 51
        },
        "outputId": "d5996c68-ca57-4411-c755-331952a2998b"
      },
      "source": [
        "messageDecode = ''\n",
        "for triplet in triplets:\n",
        "    pos, length, char = triplet[0], triplet[1], triplet[2]\n",
        "    if (pos, length) == (0, 0):\n",
        "        messageDecode += char\n",
        "    else:\n",
        "        start = max(0, len(messageDecode) - tailleDict)\n",
        "        for i in range(length):\n",
        "            messageDecode += messageDecode[start+pos+i]\n",
        "        messageDecode += char\n",
        "print(messageDecode)\n",
        "print(message == messageDecode)"
      ],
      "execution_count": 4,
      "outputs": [
        {
          "output_type": "stream",
          "text": [
            "ABAACABAABBAABBABCEDAABADA\n",
            "True\n"
          ],
          "name": "stdout"
        }
      ]
    },
    {
      "cell_type": "code",
      "metadata": {
        "id": "fIUY1RVAhKFn",
        "colab_type": "code",
        "colab": {
          "base_uri": "https://localhost:8080/",
          "height": 34
        },
        "outputId": "9ee5bd67-9d95-42e1-b5cb-aeba47db6cde"
      },
      "source": [
        "print('Taux de compression: ', 1 - (len(triplets) * 3) / (len(message))) \n",
        "#On suppose des octets pour position, longueur"
      ],
      "execution_count": 5,
      "outputs": [
        {
          "output_type": "stream",
          "text": [
            "Taux de compression:  -0.7307692307692308\n"
          ],
          "name": "stdout"
        }
      ]
    },
    {
      "cell_type": "code",
      "metadata": {
        "id": "xn8gDKpwhKFr",
        "colab_type": "code",
        "colab": {}
      },
      "source": [
        ""
      ],
      "execution_count": null,
      "outputs": []
    }
  ]
}