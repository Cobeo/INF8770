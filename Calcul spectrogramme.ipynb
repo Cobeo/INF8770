{
  "nbformat": 4,
  "nbformat_minor": 0,
  "metadata": {
    "kernelspec": {
      "display_name": "Python 3",
      "language": "python",
      "name": "python3"
    },
    "language_info": {
      "codemirror_mode": {
        "name": "ipython",
        "version": 3
      },
      "file_extension": ".py",
      "mimetype": "text/x-python",
      "name": "python",
      "nbconvert_exporter": "python",
      "pygments_lexer": "ipython3",
      "version": "3.6.3"
    },
    "colab": {
      "name": "Calcul spectrogramme.ipynb",
      "provenance": [],
      "include_colab_link": true
    }
  },
  "cells": [
    {
      "cell_type": "markdown",
      "metadata": {
        "id": "view-in-github",
        "colab_type": "text"
      },
      "source": [
        "<a href=\"https://colab.research.google.com/github/gabilodeau/INF8770/blob/master/Calcul%20spectrogramme.ipynb\" target=\"_parent\"><img src=\"https://colab.research.google.com/assets/colab-badge.svg\" alt=\"Open In Colab\"/></a>"
      ]
    },
    {
      "cell_type": "markdown",
      "metadata": {
        "id": "4krDWPnQd7r6",
        "colab_type": "text"
      },
      "source": [
        "INF8770 Technologies multimédias\n",
        "\n",
        "Polytechnique Montréal\n",
        "\n",
        "Exemple de calcul d'un spectrogramme"
      ]
    },
    {
      "cell_type": "markdown",
      "metadata": {
        "id": "k8F0qjcTemge",
        "colab_type": "text"
      },
      "source": [
        "Exécuter les 2 lignes suivantes pour colab."
      ]
    },
    {
      "cell_type": "code",
      "metadata": {
        "id": "1Frx0os3eeHm",
        "colab_type": "code",
        "colab": {
          "base_uri": "https://localhost:8080/",
          "height": 153
        },
        "outputId": "2c277ade-4035-463d-b669-a9e19ccf08e1"
      },
      "source": [
        "!git clone https://github.com/gabilodeau/INF8770\n",
        "%cd INF8770"
      ],
      "execution_count": 3,
      "outputs": [
        {
          "output_type": "stream",
          "text": [
            "Cloning into 'INF8770'...\n",
            "remote: Enumerating objects: 64, done.\u001b[K\n",
            "remote: Counting objects: 100% (64/64), done.\u001b[K\n",
            "remote: Compressing objects: 100% (54/54), done.\u001b[K\n",
            "remote: Total 359 (delta 28), reused 30 (delta 9), pack-reused 295\u001b[K\n",
            "Receiving objects: 100% (359/359), 28.52 MiB | 3.17 MiB/s, done.\n",
            "Resolving deltas: 100% (182/182), done.\n",
            "/content/INF8770\n"
          ],
          "name": "stdout"
        }
      ]
    },
    {
      "cell_type": "code",
      "metadata": {
        "id": "raXlAAjWd7r8",
        "colab_type": "code",
        "colab": {}
      },
      "source": [
        "import numpy as np\n",
        "import matplotlib.pyplot as plt\n",
        "from scipy.io import wavfile\n",
        "from scipy import signal"
      ],
      "execution_count": 4,
      "outputs": []
    },
    {
      "cell_type": "markdown",
      "metadata": {
        "id": "E1gyqzYwd7sH",
        "colab_type": "text"
      },
      "source": [
        "Lecture d'un fichier audio"
      ]
    },
    {
      "cell_type": "code",
      "metadata": {
        "id": "J-hVNgpMd7sL",
        "colab_type": "code",
        "colab": {}
      },
      "source": [
        "[fs, x] = wavfile.read('000.wav')"
      ],
      "execution_count": 5,
      "outputs": []
    },
    {
      "cell_type": "markdown",
      "metadata": {
        "id": "It-vqUV9d7sQ",
        "colab_type": "text"
      },
      "source": [
        "Calcul et affichage du spectrogramme"
      ]
    },
    {
      "cell_type": "code",
      "metadata": {
        "id": "ySqdRtFUd7sS",
        "colab_type": "code",
        "colab": {
          "base_uri": "https://localhost:8080/",
          "height": 283
        },
        "outputId": "18fd8fae-93ac-46ab-fc1a-43f9a3bcbf1e"
      },
      "source": [
        "[f, t, Sxx] = signal.spectrogram(x, fs)\n",
        "plt.pcolormesh(t, f, Sxx)\n",
        "plt.ylabel('Frequency [Hz]')\n",
        "plt.xlabel('Time [sec]')\n",
        "plt.show()"
      ],
      "execution_count": 6,
      "outputs": [
        {
          "output_type": "display_data",
          "data": {
            "image/png": "[encoded data removed]",
            "text/plain": [
              "<Figure size 432x288 with 1 Axes>"
            ]
          },
          "metadata": {
            "tags": [],
            "needs_background": "light"
          }
        }
      ]
    },
    {
      "cell_type": "code",
      "metadata": {
        "id": "nHr-quGDd7sb",
        "colab_type": "code",
        "colab": {}
      },
      "source": [
        ""
      ],
      "execution_count": null,
      "outputs": []
    }
  ]
}