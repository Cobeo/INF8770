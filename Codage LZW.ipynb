{
  "nbformat": 4,
  "nbformat_minor": 0,
  "metadata": {
    "kernelspec": {
      "display_name": "Python 3",
      "language": "python",
      "name": "python3"
    },
    "language_info": {
      "codemirror_mode": {
        "name": "ipython",
        "version": 3
      },
      "file_extension": ".py",
      "mimetype": "text/x-python",
      "name": "python",
      "nbconvert_exporter": "python",
      "pygments_lexer": "ipython3",
      "version": "3.6.6"
    },
    "colab": {
      "name": "Codage LZW.ipynb",
      "provenance": [],
      "include_colab_link": true
    }
  },
  "cells": [
    {
      "cell_type": "markdown",
      "metadata": {
        "id": "view-in-github",
        "colab_type": "text"
      },
      "source": [
        "<a href=\"https://colab.research.google.com/github/gabilodeau/INF8770/blob/master/Codage%20LZW.ipynb\" target=\"_parent\"><img src=\"https://colab.research.google.com/assets/colab-badge.svg\" alt=\"Open In Colab\"/></a>"
      ]
    },
    {
      "cell_type": "markdown",
      "metadata": {
        "id": "sltKIS9OhedT",
        "colab_type": "text"
      },
      "source": [
        "INF8770 Technologies multimédias\n",
        "\n",
        "Polytechnique Montréal\n",
        "\n",
        "Exemple de codage LZW"
      ]
    },
    {
      "cell_type": "code",
      "metadata": {
        "id": "9Nskb1VnhedV",
        "colab_type": "code",
        "colab": {}
      },
      "source": [
        "import numpy as np"
      ],
      "execution_count": 1,
      "outputs": []
    },
    {
      "cell_type": "markdown",
      "metadata": {
        "id": "wvA5aBrRhede",
        "colab_type": "text"
      },
      "source": [
        "Message à coder"
      ]
    },
    {
      "cell_type": "code",
      "metadata": {
        "id": "Gw-n1lrdhedg",
        "colab_type": "code",
        "colab": {}
      },
      "source": [
        "Message = \"ABAABAABACABBABCDAADACABABAAABAABBABABAABAAB\""
      ],
      "execution_count": 2,
      "outputs": []
    },
    {
      "cell_type": "markdown",
      "metadata": {
        "id": "1vXe5Uw5hedl",
        "colab_type": "text"
      },
      "source": [
        "Construction du dictionnaire à partir des symboles contenus dans le message. "
      ]
    },
    {
      "cell_type": "code",
      "metadata": {
        "id": "a0herd7Nhedm",
        "colab_type": "code",
        "colab": {}
      },
      "source": [
        "dictsymb =[Message[0]]\n",
        "dictbin = [\"{:b}\".format(0)]\n",
        "nbsymboles = 1\n",
        "for i in range(1,len(Message)):\n",
        "    if Message[i] not in dictsymb:\n",
        "        dictsymb += [Message[i]]\n",
        "        dictbin += [\"{:b}\".format(nbsymboles)] \n",
        "        nbsymboles +=1\n",
        "        \n",
        "longueurOriginale = np.ceil(np.log2(nbsymboles))*len(Message)    "
      ],
      "execution_count": 3,
      "outputs": []
    },
    {
      "cell_type": "markdown",
      "metadata": {
        "id": "lq065y-Hhedq",
        "colab_type": "text"
      },
      "source": [
        "Ajustement des codes binaires selon le nombre total de symboles en ajoutant des zéros. Tri des symboles. Affichage du dictionnaire initial."
      ]
    },
    {
      "cell_type": "code",
      "metadata": {
        "id": "LwCI03owhedr",
        "colab_type": "code",
        "colab": {
          "base_uri": "https://localhost:8080/",
          "height": 85
        },
        "outputId": "6db5ce2b-fc02-4a1e-807f-d261db20ba28"
      },
      "source": [
        "for i in range(nbsymboles):\n",
        "    dictbin[i] = \"{:b}\".format(i).zfill(int(np.ceil(np.log2(nbsymboles))))\n",
        "        \n",
        "dictsymb.sort()\n",
        "dictionnaire = np.transpose([dictsymb,dictbin])\n",
        "print(dictionnaire) "
      ],
      "execution_count": 4,
      "outputs": [
        {
          "output_type": "stream",
          "text": [
            "[['A' '00']\n",
            " ['B' '01']\n",
            " ['C' '10']\n",
            " ['D' '11']]\n"
          ],
          "name": "stdout"
        }
      ]
    },
    {
      "cell_type": "markdown",
      "metadata": {
        "id": "j-ccCTTwhedw",
        "colab_type": "text"
      },
      "source": [
        "Codage du message"
      ]
    },
    {
      "cell_type": "code",
      "metadata": {
        "id": "aitmk8_Ohedx",
        "colab_type": "code",
        "colab": {}
      },
      "source": [
        "i=0;\n",
        "MessageCode = []\n",
        "longueur = 0\n",
        "while i < len(Message):\n",
        "    precsouschaine = Message[i] #sous-chaine qui sera codé\n",
        "    souschaine = Message[i] #sous-chaine qui sera codé + 1 caractère (pour le dictionnaire)\n",
        "    \n",
        "    #Cherche la plus grande sous-chaine. On ajoute un caractère au fur et à mesure.\n",
        "    while souschaine in dictsymb and i < len(Message):\n",
        "        i += 1\n",
        "        precsouschaine = souschaine\n",
        "        if i < len(Message):  #Si on a pas atteint la fin du message\n",
        "            souschaine += Message[i]  \n",
        "\n",
        "    #Codage de la plus grande sous-chaine à l'aide du dictionnaire  \n",
        "    codebinaire = [dictbin[dictsymb.index(precsouschaine)]]\n",
        "    MessageCode += codebinaire\n",
        "    longueur += len(codebinaire[0]) \n",
        "    #Ajout de la sous-chaine codé + symbole suivant dans le dictionnaire.\n",
        "    if i < len(Message):\n",
        "        dictsymb += [souschaine]\n",
        "        dictbin += [\"{:b}\".format(nbsymboles)] \n",
        "        nbsymboles +=1\n",
        "    \n",
        "    #Ajout de 1 bit si requis\n",
        "    if np.ceil(np.log2(nbsymboles)) > len(MessageCode[-1]):\n",
        "        for j in range(nbsymboles):\n",
        "            dictbin[j] = \"{:b}\".format(j).zfill(int(np.ceil(np.log2(nbsymboles))))\n",
        "    \n"
      ],
      "execution_count": 5,
      "outputs": []
    },
    {
      "cell_type": "markdown",
      "metadata": {
        "id": "yKP0ZYgihed1",
        "colab_type": "text"
      },
      "source": [
        "Affichage du message codé"
      ]
    },
    {
      "cell_type": "code",
      "metadata": {
        "id": "2IJQc9XYhed2",
        "colab_type": "code",
        "colab": {
          "base_uri": "https://localhost:8080/",
          "height": 54
        },
        "outputId": "15d63f51-1284-4975-f350-2477c7009e98"
      },
      "source": [
        " print(MessageCode)"
      ],
      "execution_count": 6,
      "outputs": [
        {
          "output_type": "stream",
          "text": [
            "['00', '001', '000', '100', '110', '0101', '0010', '0100', '0101', '0001', '0010', '0011', '0110', '01111', '01010', '01100', '00110', '00111', '01011', '00111', '00101', '10101', '00001']\n"
          ],
          "name": "stdout"
        }
      ]
    },
    {
      "cell_type": "markdown",
      "metadata": {
        "id": "CI9fW4rshed6",
        "colab_type": "text"
      },
      "source": [
        "Affichage du dictionnaire final"
      ]
    },
    {
      "cell_type": "code",
      "metadata": {
        "id": "g9MKADCThed7",
        "colab_type": "code",
        "colab": {
          "base_uri": "https://localhost:8080/",
          "height": 459
        },
        "outputId": "d4d8cf69-ba65-4fa3-e77b-27746c425838"
      },
      "source": [
        "dictionnaire = np.transpose([dictsymb,dictbin])\n",
        "print(dictionnaire) "
      ],
      "execution_count": 7,
      "outputs": [
        {
          "output_type": "stream",
          "text": [
            "[['A' '00000']\n",
            " ['B' '00001']\n",
            " ['C' '00010']\n",
            " ['D' '00011']\n",
            " ['AB' '00100']\n",
            " ['BA' '00101']\n",
            " ['AA' '00110']\n",
            " ['ABA' '00111']\n",
            " ['AAB' '01000']\n",
            " ['BAC' '01001']\n",
            " ['CA' '01010']\n",
            " ['ABB' '01011']\n",
            " ['BAB' '01100']\n",
            " ['BC' '01101']\n",
            " ['CD' '01110']\n",
            " ['DA' '01111']\n",
            " ['AAD' '10000']\n",
            " ['DAC' '10001']\n",
            " ['CAB' '10010']\n",
            " ['BABA' '10011']\n",
            " ['AAA' '10100']\n",
            " ['ABAA' '10101']\n",
            " ['ABBA' '10110']\n",
            " ['ABAB' '10111']\n",
            " ['BAA' '11000']\n",
            " ['ABAAB' '11001']]\n"
          ],
          "name": "stdout"
        }
      ]
    },
    {
      "cell_type": "markdown",
      "metadata": {
        "id": "a5qOi2Wyhed_",
        "colab_type": "text"
      },
      "source": [
        "Longueur en bits du message codé et celle de l'original"
      ]
    },
    {
      "cell_type": "code",
      "metadata": {
        "id": "LhnbPgDIheeA",
        "colab_type": "code",
        "colab": {
          "base_uri": "https://localhost:8080/",
          "height": 51
        },
        "outputId": "2e51d209-c9aa-4169-ff00-131aa154db65"
      },
      "source": [
        "print(\"Longueur = {0}\".format(longueur))\n",
        "print(\"Longueur originale = {0}\".format(longueurOriginale))"
      ],
      "execution_count": 8,
      "outputs": [
        {
          "output_type": "stream",
          "text": [
            "Longueur = 96\n",
            "Longueur originale = 88.0\n"
          ],
          "name": "stdout"
        }
      ]
    },
    {
      "cell_type": "code",
      "metadata": {
        "id": "nLdsE67pheeE",
        "colab_type": "code",
        "colab": {}
      },
      "source": [
        ""
      ],
      "execution_count": null,
      "outputs": []
    }
  ]
}